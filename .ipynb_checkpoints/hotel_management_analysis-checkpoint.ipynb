{
 "cells": [
  {
   "cell_type": "markdown",
   "id": "0227a823-c569-4a87-92ca-7ea915be1619",
   "metadata": {},
   "source": [
    "## Import python libraries"
   ]
  },
  {
   "cell_type": "code",
   "execution_count": 15,
   "id": "eec3375c-7f60-4ad0-a1a4-a6154182eed4",
   "metadata": {},
   "outputs": [],
   "source": [
    "# Import libraries\n",
    "##import numpy as np  # numerical computations, especially arrays and matrices\n",
    "import pandas as pd  # data manipulation and analysis using DataFrames\n",
    "import matplotlib.pyplot as plt  # data visualization (basic plotting)\n",
    "%matplotlib inline  \n",
    "# enables inline plotting in Jupyter notebooks\n",
    "import seaborn as sns  # advanced statistical data visualization"
   ]
  },
  {
   "cell_type": "markdown",
   "id": "b85f1aca-4eab-41e5-bfd9-b8f846e27269",
   "metadata": {},
   "source": [
    "## Explore source files"
   ]
  },
  {
   "cell_type": "code",
   "execution_count": 16,
   "id": "52904c9e-029d-451e-b9f2-fffc5f7d8c48",
   "metadata": {},
   "outputs": [],
   "source": [
    "df_bookings = pd.read_csv(\"fact_bookings.csv\", encoding= 'unicode_escape') # loading CSV with special character handling"
   ]
  },
  {
   "cell_type": "code",
   "execution_count": 17,
   "id": "cfd1e087-bc5c-42ee-ad16-76a332b1044d",
   "metadata": {},
   "outputs": [],
   "source": [
    "#df_bookings.head()"
   ]
  },
  {
   "cell_type": "code",
   "execution_count": 18,
   "id": "c3e1b475-1d3b-465f-99fb-e4742567d1f8",
   "metadata": {},
   "outputs": [],
   "source": [
    "#df_bookings.shape"
   ]
  },
  {
   "cell_type": "code",
   "execution_count": 19,
   "id": "755822bd-6e6b-48f0-ab53-4e3a3bd42222",
   "metadata": {},
   "outputs": [],
   "source": [
    "#df_bookings.describe()"
   ]
  },
  {
   "cell_type": "code",
   "execution_count": 20,
   "id": "45a9dcb8-dfd1-496c-9a6f-757c31ce88ee",
   "metadata": {},
   "outputs": [],
   "source": [
    "#df_bookings.revenue_generated.min(), df_bookings.revenue_generated.max()"
   ]
  },
  {
   "cell_type": "code",
   "execution_count": 21,
   "id": "d69a4cf4-d047-4a9f-866e-19e7aa7f41f7",
   "metadata": {},
   "outputs": [],
   "source": [
    "#unique room catagory\n",
    "#df_bookings.room_category.unique()"
   ]
  },
  {
   "cell_type": "code",
   "execution_count": 22,
   "id": "78fc79f8-ca6a-494e-91a4-30c151d8dcec",
   "metadata": {},
   "outputs": [],
   "source": [
    "# df_date = pd.read_csv('dim_date.csv', encoding= 'unicode_escape')\n",
    "# df_hotels = pd.read_csv('dim_hotels.csv', encoding= 'unicode_escape')\n",
    "# df_rooms = pd.read_csv('dim_rooms.csv', encoding= 'unicode_escape')\n",
    "# df_agg_bookings = pd.read_csv('fact_aggregated_bookings.csv', encoding= 'unicode_escape')"
   ]
  },
  {
   "cell_type": "code",
   "execution_count": 23,
   "id": "736e9c5e-c56e-430a-8fb8-70fa029a5df3",
   "metadata": {},
   "outputs": [],
   "source": [
    "# df_rooms.head()"
   ]
  },
  {
   "cell_type": "code",
   "execution_count": 24,
   "id": "01903fc4-4619-4f95-b2ba-de5e3743c69c",
   "metadata": {
    "scrolled": true
   },
   "outputs": [],
   "source": [
    "# df_agg_bookings.head(2)"
   ]
  },
  {
   "cell_type": "code",
   "execution_count": 25,
   "id": "ecaa3e0c-425d-43b8-a734-1270d4333201",
   "metadata": {},
   "outputs": [],
   "source": [
    "# df_hotels.head(3)"
   ]
  },
  {
   "cell_type": "code",
   "execution_count": 26,
   "id": "574223ce-da7a-4786-b79e-642771bb30d1",
   "metadata": {},
   "outputs": [],
   "source": [
    "# df_date.head(3)"
   ]
  },
  {
   "cell_type": "markdown",
   "id": "41f65c65-7492-4161-a5cb-e4afbaa9fd75",
   "metadata": {},
   "source": [
    "Exercise-1. Find out unique property ids in aggregate bookings dataset"
   ]
  },
  {
   "cell_type": "code",
   "execution_count": 27,
   "id": "ee753967-065e-477b-a409-b088cef816ed",
   "metadata": {},
   "outputs": [],
   "source": [
    "# write your code here\n",
    "# df_bookings.property_id.unique()"
   ]
  },
  {
   "cell_type": "markdown",
   "id": "651c3115-07c3-4ff3-ad14-fe54f6e2a40e",
   "metadata": {},
   "source": [
    "Exercise-2. Find out total bookings per property_id"
   ]
  },
  {
   "cell_type": "code",
   "execution_count": 28,
   "id": "98271eab-5d53-49e4-8aaf-80cdc29759ba",
   "metadata": {},
   "outputs": [],
   "source": [
    "# df_agg_bookings.head(2)"
   ]
  },
  {
   "cell_type": "code",
   "execution_count": 29,
   "id": "51977832-66e2-44d0-b940-6bf280bb04ca",
   "metadata": {},
   "outputs": [],
   "source": [
    "# df_agg_bookings.groupby(\"property_id\")[\"successful_bookings\"].sum()"
   ]
  },
  {
   "cell_type": "markdown",
   "id": "59fa885e-6098-44ea-854e-630c5adc91f3",
   "metadata": {},
   "source": [
    "Exercise-3. Find out days on which bookings are greater than capacity"
   ]
  },
  {
   "cell_type": "code",
   "execution_count": 30,
   "id": "7edb1416-5456-40b7-90f0-663089e0be59",
   "metadata": {},
   "outputs": [],
   "source": [
    "# df_agg_bookings[df_agg_bookings.successful_bookings>df_agg_bookings.capacity]"
   ]
  },
  {
   "cell_type": "markdown",
   "id": "866c0d73-7b60-4c8d-a1c3-292078a7b8df",
   "metadata": {},
   "source": [
    "Exercise-4. Find out properties that have highest capacity"
   ]
  },
  {
   "cell_type": "code",
   "execution_count": 31,
   "id": "78916fa5-9cc2-4f51-bbf1-9c3f66ad7f7b",
   "metadata": {},
   "outputs": [],
   "source": [
    "# df_agg_bookings[df_agg_bookings.capacity==df_agg_bookings.capacity.max()]"
   ]
  },
  {
   "cell_type": "markdown",
   "id": "49814d70-5be3-4107-9d5a-e1df3385a1f4",
   "metadata": {},
   "source": [
    "# 2. Data Cleaning"
   ]
  },
  {
   "cell_type": "markdown",
   "id": "34713bff-937b-4c89-9883-e4e2b582e3be",
   "metadata": {},
   "source": [
    "##### Checking the null values"
   ]
  },
  {
   "cell_type": "code",
   "execution_count": 32,
   "id": "ca77a657-55a6-430c-af41-429e218ab64b",
   "metadata": {},
   "outputs": [],
   "source": [
    "# df_bookings.isnull().sum()"
   ]
  },
  {
   "cell_type": "code",
   "execution_count": 33,
   "id": "f611e251-fb34-4c02-a73a-7128c14e484a",
   "metadata": {},
   "outputs": [],
   "source": [
    "# df_bookings = df_bookings.dropna(subset=['booking_id', 'property_id'])"
   ]
  },
  {
   "cell_type": "code",
   "execution_count": 34,
   "id": "2a9a931b-dc50-4229-b584-b7fcd45632ed",
   "metadata": {},
   "outputs": [],
   "source": [
    "# df_bookings.describe()"
   ]
  },
  {
   "cell_type": "code",
   "execution_count": 35,
   "id": "ea0b698b-6a70-4e20-876e-836f9aa612d0",
   "metadata": {},
   "outputs": [],
   "source": [
    "# df_bookings[df_bookings.no_guests<=0]"
   ]
  },
  {
   "cell_type": "code",
   "execution_count": 36,
   "id": "32fb25f0-7088-4225-86d6-ccecdc41c26a",
   "metadata": {},
   "outputs": [],
   "source": [
    "# df_bookings.shape"
   ]
  },
  {
   "cell_type": "code",
   "execution_count": 37,
   "id": "b8327686-c214-4390-be82-918609eab9bb",
   "metadata": {},
   "outputs": [],
   "source": [
    "# df_bookings = df_bookings[df_bookings.no_guests>0]"
   ]
  },
  {
   "cell_type": "code",
   "execution_count": 38,
   "id": "2930a4e0-a65a-4595-8fed-923c287d7d62",
   "metadata": {},
   "outputs": [],
   "source": [
    "# df_bookings.shape"
   ]
  },
  {
   "cell_type": "code",
   "execution_count": 39,
   "id": "cb2a04fd-7a28-4ad5-a286-c1b60a2804da",
   "metadata": {},
   "outputs": [],
   "source": [
    "#drop unrelated/blank columns\n",
    "# df_agg_bookings.head()"
   ]
  },
  {
   "cell_type": "code",
   "execution_count": 40,
   "id": "88b68c6c-77a0-4a5b-88c5-7dbd457bd806",
   "metadata": {},
   "outputs": [],
   "source": [
    "# df_agg_bookings.isnull().sum()"
   ]
  },
  {
   "cell_type": "code",
   "execution_count": 41,
   "id": "704bfabb-199e-4ae3-a1f3-41a75cc27d31",
   "metadata": {},
   "outputs": [],
   "source": [
    "# df_agg_bookings.shape"
   ]
  },
  {
   "cell_type": "code",
   "execution_count": 42,
   "id": "69cf8552-d290-488d-9b13-483f39b12bac",
   "metadata": {},
   "outputs": [],
   "source": [
    "# df_agg_bookings.drop(['empty_room'], axis=1, inplace=True)"
   ]
  },
  {
   "cell_type": "code",
   "execution_count": 43,
   "id": "e347c375-369d-406e-977f-ef02df8e3889",
   "metadata": {},
   "outputs": [],
   "source": [
    "# df_bookings.revenue_generated.min(), df_bookings.revenue_generated.max()"
   ]
  },
  {
   "cell_type": "code",
   "execution_count": 44,
   "id": "0a72f393-bc4f-4a12-9f73-0d3d5abc9e57",
   "metadata": {},
   "outputs": [],
   "source": [
    "# avg, std = df_bookings.revenue_generated.mean(), df_bookings.revenue_generated.std()"
   ]
  },
  {
   "cell_type": "code",
   "execution_count": 45,
   "id": "0dd72f85-18c5-495b-b199-24f8a8777896",
   "metadata": {},
   "outputs": [],
   "source": [
    "# higher_limit = avg + 3*std\n",
    "# higher_limit"
   ]
  },
  {
   "cell_type": "code",
   "execution_count": 46,
   "id": "815332dc-dc5e-433a-89cb-da24cd17927e",
   "metadata": {},
   "outputs": [],
   "source": [
    "# lower_limit = avg - 3*std\n",
    "# lower_limit"
   ]
  },
  {
   "cell_type": "code",
   "execution_count": 47,
   "id": "4c227e42-2511-4aaf-9339-170d5eeaf8d5",
   "metadata": {},
   "outputs": [],
   "source": [
    "# df_bookings[df_bookings.revenue_generated>higher_limit]"
   ]
  },
  {
   "cell_type": "code",
   "execution_count": 48,
   "id": "f7deb387-ebf9-4083-a639-18b3ec8b8704",
   "metadata": {},
   "outputs": [],
   "source": [
    "# df_bookings = df_bookings[df_bookings.revenue_generated<=higher_limit]\n",
    "# df_bookings.shape"
   ]
  },
  {
   "cell_type": "markdown",
   "id": "cead961b-efb9-47f5-b289-3bd5aad3e23e",
   "metadata": {},
   "source": [
    "# Checking outlier"
   ]
  },
  {
   "cell_type": "code",
   "execution_count": 49,
   "id": "7a1d31d4-9c5e-4490-909e-c330d05a3840",
   "metadata": {},
   "outputs": [],
   "source": [
    "# df_bookings[df_bookings.revenue_generated>higher_limit]"
   ]
  },
  {
   "cell_type": "code",
   "execution_count": 50,
   "id": "b6c71954-124b-41d9-91c1-ae9eb22f8b18",
   "metadata": {},
   "outputs": [],
   "source": [
    "# df_bookings.shape"
   ]
  },
  {
   "cell_type": "code",
   "execution_count": 51,
   "id": "8efca3e4-5f1a-4856-9eba-488d8e17adc6",
   "metadata": {},
   "outputs": [],
   "source": [
    "# df_bookings = df_bookings[df_bookings.revenue_generated<=higher_limit]"
   ]
  },
  {
   "cell_type": "code",
   "execution_count": 52,
   "id": "4d462849-44e1-4bcc-afb3-9e5759b02d6c",
   "metadata": {},
   "outputs": [],
   "source": [
    "# df_bookings.shape"
   ]
  },
  {
   "cell_type": "code",
   "execution_count": 53,
   "id": "d578e304-53de-4d87-9eec-584d9f42117e",
   "metadata": {},
   "outputs": [],
   "source": [
    "# df_bookings.revenue_realized.describe()"
   ]
  },
  {
   "cell_type": "code",
   "execution_count": 54,
   "id": "d0148d3b-940e-4372-93c0-e326249e2142",
   "metadata": {},
   "outputs": [],
   "source": [
    "# higher_limit = df_bookings.revenue_realized.mean() + 3*df_bookings.revenue_realized.std()\n",
    "# higher_limit"
   ]
  },
  {
   "cell_type": "code",
   "execution_count": 55,
   "id": "90da8e7d-2b88-40a0-87c0-2b5eafe01c90",
   "metadata": {},
   "outputs": [],
   "source": [
    "# df_bookings[df_bookings.revenue_realized >= higher_limit]"
   ]
  },
  {
   "cell_type": "code",
   "execution_count": 56,
   "id": "8a4b6de1-817f-4012-9274-b827e0758704",
   "metadata": {},
   "outputs": [],
   "source": [
    "# df_bookings[df_bookings.room_category==\"RT4\"].revenue_realized.describe()"
   ]
  },
  {
   "cell_type": "code",
   "execution_count": 57,
   "id": "5c0eda4b-2538-4c42-b269-5a81878fc93c",
   "metadata": {},
   "outputs": [],
   "source": [
    "# higher_limit_rt4 = df_bookings[df_bookings.room_category==\"RT4\"].revenue_realized.mean() + 3*df_bookings[df_bookings.room_category==\"RT4\"].revenue_realized.std()\n",
    "# higher_limit_rt4"
   ]
  },
  {
   "cell_type": "markdown",
   "id": "a20436f0-8908-4a3e-9d9e-3a2be8539514",
   "metadata": {},
   "source": [
    "##### Here higher limit comes to be 50583 and in our dataframe above we can see that max value for revenue realized is 45220. Hence we can conclude that there is no outlier and we don't need to do any data cleaning on this particular column"
   ]
  },
  {
   "cell_type": "markdown",
   "id": "bc514e0f-45bc-4433-96ea-faf369be91ed",
   "metadata": {},
   "source": [
    "##### Checking the null values"
   ]
  },
  {
   "cell_type": "code",
   "execution_count": 58,
   "id": "a90b3e0f-f4a6-48a4-82ab-60e21074916a",
   "metadata": {
    "scrolled": true
   },
   "outputs": [],
   "source": [
    "# df_bookings.isnull().sum()"
   ]
  },
  {
   "cell_type": "code",
   "execution_count": 59,
   "id": "05aa377f-8ce3-4df4-b78a-e753b154b5b0",
   "metadata": {},
   "outputs": [],
   "source": [
    "#df_bookings = df_bookings.dropna(subset=['booking_id', 'property_id'])"
   ]
  },
  {
   "cell_type": "markdown",
   "id": "abd27ead-3660-4f84-a6ac-7b1d2398a2cd",
   "metadata": {},
   "source": [
    "##### Total values in our dataframe is 134576. Out of that 77899 rows has null rating. Since there are many rows with null rating, we should not filter these values. Also we should not replace this rating with a median or mean rating etc"
   ]
  },
  {
   "cell_type": "code",
   "execution_count": 60,
   "id": "7b2e78fe-1188-46fd-b618-7015ae1a08e5",
   "metadata": {},
   "outputs": [],
   "source": [
    "# df_agg_bookings.isnull().sum()"
   ]
  },
  {
   "cell_type": "code",
   "execution_count": 61,
   "id": "7e0a614a-59c2-448a-a625-04d899cfcf53",
   "metadata": {},
   "outputs": [],
   "source": [
    "# df_agg_bookings[df_agg_bookings.capacity.isnull()]"
   ]
  },
  {
   "cell_type": "code",
   "execution_count": 62,
   "id": "5df1dc68-982f-4330-97a6-1ff098fbbcf7",
   "metadata": {},
   "outputs": [],
   "source": [
    "# df_agg_bookings.capacity.median()"
   ]
  },
  {
   "cell_type": "code",
   "execution_count": 63,
   "id": "d7b45d7d-6b9b-4bfd-904f-4de813a685c6",
   "metadata": {},
   "outputs": [],
   "source": [
    "# #df_agg_bookings.capacity.fillna(df_agg_bookings.capacity.median(), inplace=True)\n",
    "# df_agg_bookings['capacity'] = df_agg_bookings['capacity'].fillna(df_agg_bookings['capacity'].median())"
   ]
  },
  {
   "cell_type": "code",
   "execution_count": 64,
   "id": "1a5d7267-c365-4972-8e15-32814c6d04de",
   "metadata": {},
   "outputs": [],
   "source": [
    "# df_agg_bookings.loc[[8,14]]"
   ]
  },
  {
   "cell_type": "markdown",
   "id": "69b8a2a1-2076-4b18-9758-88d61501659f",
   "metadata": {},
   "source": [
    "##### **Exercise-2. In aggregate bookings find out records that have successful_bookings value greater than capacity. Filter those records**"
   ]
  },
  {
   "cell_type": "code",
   "execution_count": 65,
   "id": "a8bbb22e-b996-4cea-934e-60ce9ed4fb9c",
   "metadata": {},
   "outputs": [],
   "source": [
    "# df_agg_bookings.head(3)"
   ]
  },
  {
   "cell_type": "code",
   "execution_count": 66,
   "id": "d59457e7-2628-43a0-bc8f-10f664572308",
   "metadata": {},
   "outputs": [],
   "source": [
    "# df_agg_bookings[df_agg_bookings.successful_bookings>df_agg_bookings.capacity]"
   ]
  },
  {
   "cell_type": "code",
   "execution_count": 67,
   "id": "56a0b760-fca1-4289-bcab-9f5b3e3d8f5e",
   "metadata": {},
   "outputs": [],
   "source": [
    "# df_agg_bookings.shape"
   ]
  },
  {
   "cell_type": "code",
   "execution_count": 68,
   "id": "949ef4ad-fc86-417a-b35b-8e5cd2f4a3ff",
   "metadata": {},
   "outputs": [],
   "source": [
    "# df_agg_bookings = df_agg_bookings[df_agg_bookings.successful_bookings<=df_agg_bookings.capacity]"
   ]
  },
  {
   "cell_type": "code",
   "execution_count": 69,
   "id": "fd20dfae-9ca1-468d-adb0-68413b4df0c7",
   "metadata": {},
   "outputs": [
    {
     "ename": "NameError",
     "evalue": "name 'df_agg_bookings' is not defined",
     "output_type": "error",
     "traceback": [
      "\u001b[31m---------------------------------------------------------------------------\u001b[39m",
      "\u001b[31mNameError\u001b[39m                                 Traceback (most recent call last)",
      "\u001b[36mCell\u001b[39m\u001b[36m \u001b[39m\u001b[32mIn[69]\u001b[39m\u001b[32m, line 1\u001b[39m\n\u001b[32m----> \u001b[39m\u001b[32m1\u001b[39m \u001b[43mdf_agg_bookings\u001b[49m.shape\n",
      "\u001b[31mNameError\u001b[39m: name 'df_agg_bookings' is not defined"
     ]
    }
   ],
   "source": [
    "df_agg_bookings.shape"
   ]
  },
  {
   "cell_type": "markdown",
   "id": "adf3e35e-324d-4ebd-8dab-f797e8a2f75a",
   "metadata": {},
   "source": [
    "# Data Transformation "
   ]
  },
  {
   "cell_type": "markdown",
   "id": "0cf17512-9a6a-4f61-9adb-607010d3c325",
   "metadata": {},
   "source": [
    "##### Create Occupancy Percentage Colum (occ_pct)"
   ]
  },
  {
   "cell_type": "code",
   "execution_count": null,
   "id": "dddbfd48-593e-4bc3-9dc2-c0acf3641c27",
   "metadata": {},
   "outputs": [],
   "source": [
    "# df_agg_bookings.head(3)"
   ]
  },
  {
   "cell_type": "code",
   "execution_count": null,
   "id": "c8931a1d-07e5-44da-b44a-16d69eb7735b",
   "metadata": {},
   "outputs": [],
   "source": [
    "# new_col = df_agg_bookings.apply( lambda row: row['successful_bookings'] / row['capacity'], axis=1)"
   ]
  },
  {
   "cell_type": "code",
   "execution_count": null,
   "id": "9701dc26-c063-4a26-ba3d-ab8499507a72",
   "metadata": {},
   "outputs": [],
   "source": [
    "# df_agg_bookings = df_agg_bookings.assign(occ_pct=new_col.values)\n",
    "# df_agg_bookings.head(3)"
   ]
  },
  {
   "cell_type": "code",
   "execution_count": null,
   "id": "a665c63b-d237-4c1d-aa6c-30ff9b430086",
   "metadata": {},
   "outputs": [],
   "source": [
    "# df_agg_bookings['occ_pct'] = df_agg_bookings['occ_pct'].apply(lambda x: round(x*100, 2))\n",
    "# df_agg_bookings.head(3)"
   ]
  },
  {
   "cell_type": "markdown",
   "id": "bda1cebc-9a4e-46df-be8d-0f1df2507bd0",
   "metadata": {},
   "source": [
    "# Insight Generation & Visualization "
   ]
  },
  {
   "cell_type": "markdown",
   "id": "b021acd1-abd5-4e32-994d-d944ced17676",
   "metadata": {},
   "source": [
    "##### 1. What is an average occupancy rate in each of the room categories?"
   ]
  },
  {
   "cell_type": "code",
   "execution_count": null,
   "id": "e1cbee00-522e-4a62-812c-8039bf4c83f0",
   "metadata": {},
   "outputs": [],
   "source": [
    "# df_agg_bookings.head()"
   ]
  },
  {
   "cell_type": "code",
   "execution_count": null,
   "id": "01d9344f-1f78-47fa-9a99-7dbbdc11230b",
   "metadata": {},
   "outputs": [],
   "source": [
    "# df_agg_bookings.groupby(\"room_category\")[\"occ_pct\"].mean()"
   ]
  },
  {
   "cell_type": "markdown",
   "id": "804d175d-d423-4527-a80c-e00dccb7620c",
   "metadata": {},
   "source": [
    "I don't understand RT1, RT2 etc. Print room categories such as Standard, Premium, Elite etc along with average occupancy percentage"
   ]
  },
  {
   "cell_type": "code",
   "execution_count": null,
   "id": "283e4ce3-bc5d-40f2-a0ba-ef04f59de5b7",
   "metadata": {
    "scrolled": true
   },
   "outputs": [],
   "source": [
    "# df_rooms.head()"
   ]
  },
  {
   "cell_type": "code",
   "execution_count": null,
   "id": "56240205-9d4b-473e-8573-8d37907e73bd",
   "metadata": {},
   "outputs": [],
   "source": [
    "# df = pd.merge(df_agg_bookings, df_rooms, left_on=\"room_category\", right_on=\"room_id\")\n",
    "# df.head(3)"
   ]
  },
  {
   "cell_type": "code",
   "execution_count": null,
   "id": "15c415a6-af33-49f6-b2a2-04f778ed8ffb",
   "metadata": {},
   "outputs": [],
   "source": [
    "# df.drop(\"room_id\", axis=1, inplace=True)\n",
    "# df.head(3)"
   ]
  },
  {
   "cell_type": "code",
   "execution_count": null,
   "id": "12579879-e457-4a2b-99b4-8a6784c523f2",
   "metadata": {},
   "outputs": [],
   "source": [
    "# df.groupby(\"room_class\")[\"occ_pct\"].mean().round(2).sort_values(ascending=True)"
   ]
  },
  {
   "cell_type": "markdown",
   "id": "bb6ee4ff-ad78-49b1-846b-de83cfc70d28",
   "metadata": {},
   "source": [
    "**2. Print average occupancy rate per city**"
   ]
  },
  {
   "cell_type": "code",
   "execution_count": null,
   "id": "bc4b2465-e758-4d37-aff1-a09b5bf36833",
   "metadata": {},
   "outputs": [],
   "source": [
    "# df_hotels.head(3)"
   ]
  },
  {
   "cell_type": "code",
   "execution_count": null,
   "id": "527a1f36-f956-42b1-a396-54c6da142c96",
   "metadata": {},
   "outputs": [],
   "source": [
    "# df = pd.merge(df, df_hotels, on=\"property_id\")\n",
    "# df.head(3)"
   ]
  },
  {
   "cell_type": "code",
   "execution_count": null,
   "id": "e2f96c63-6293-4002-9e7c-31f8529380d4",
   "metadata": {},
   "outputs": [],
   "source": [
    "# df.groupby(\"city\")[\"occ_pct\"].mean().round(2)"
   ]
  },
  {
   "cell_type": "markdown",
   "id": "3402f89b-9ca1-4dd2-84db-5a81009dfbbd",
   "metadata": {},
   "source": [
    "**3. When was the occupancy better? Weekday or Weekend?**"
   ]
  },
  {
   "cell_type": "code",
   "execution_count": null,
   "id": "dedb912c-5b29-4a9c-be13-80d6842849bb",
   "metadata": {},
   "outputs": [],
   "source": [
    "# df_date.head()"
   ]
  },
  {
   "cell_type": "code",
   "execution_count": null,
   "id": "2f244ab3-f373-47ca-960c-b8859b93628f",
   "metadata": {},
   "outputs": [],
   "source": [
    "# df = pd.merge(df, df_date, left_on=\"check_in_date\", right_on=\"date\")\n",
    "# df.head(3)"
   ]
  },
  {
   "cell_type": "markdown",
   "id": "7eded5fd-cd72-4816-b31a-1c383c40dbd6",
   "metadata": {},
   "source": [
    "##### 4. In the month of June, what is the occupancy for different cities"
   ]
  },
  {
   "cell_type": "code",
   "execution_count": null,
   "id": "72d1ddb6-5fbf-4f30-95ad-3f772b03a28f",
   "metadata": {},
   "outputs": [],
   "source": [
    "# df.groupby(\"day_type\")[\"occ_pct\"].mean()"
   ]
  },
  {
   "cell_type": "code",
   "execution_count": 73,
   "id": "7eb4457b-6c28-4435-96a4-8fa6e9ab546e",
   "metadata": {},
   "outputs": [],
   "source": [
    "# df_june_22 = df[df[\"mmm yy\"]==\"Jun 22\"]\n",
    "# df_june_22.head(3)"
   ]
  },
  {
   "cell_type": "code",
   "execution_count": 70,
   "id": "d2e7f2e6-5387-4895-adfd-41e030cabe32",
   "metadata": {},
   "outputs": [],
   "source": [
    "# df_june_22.groupby('city')['occ_pct'].mean().round(2)"
   ]
  },
  {
   "cell_type": "markdown",
   "id": "ec6e7309-a3f0-4536-9784-10b4d3d50e45",
   "metadata": {},
   "source": [
    "#### #Plot the graph of booking count accross different platform"
   ]
  },
  {
   "cell_type": "code",
   "execution_count": 71,
   "id": "0fc40632-0791-47d3-9c52-e17fcf0c8988",
   "metadata": {},
   "outputs": [],
   "source": [
    "# df_bookings.booking_platform.value_counts()"
   ]
  },
  {
   "cell_type": "code",
   "execution_count": 72,
   "id": "9e502bb4-6768-41fd-98d1-62a4fbab945e",
   "metadata": {},
   "outputs": [],
   "source": [
    "# df_bookings.booking_platform.value_counts().plot()"
   ]
  },
  {
   "cell_type": "code",
   "execution_count": null,
   "id": "cd3e5799-6fe6-4667-a1ae-280238eee9be",
   "metadata": {},
   "outputs": [],
   "source": [
    "#bar plot\n",
    "# df_bookings.booking_platform.value_counts().plot(kind=\"bar\")"
   ]
  },
  {
   "cell_type": "markdown",
   "id": "3dba8904-5476-451b-8b0a-c81c987da2c3",
   "metadata": {},
   "source": [
    "#### #Compare the booking count based on different city and category"
   ]
  },
  {
   "cell_type": "code",
   "execution_count": null,
   "id": "97f04081-1b83-4068-a664-f4f6d5dce614",
   "metadata": {},
   "outputs": [],
   "source": [
    "# xy = sns.countplot(data = df, x = 'city', hue = 'category')\n",
    "\n",
    "# for bars in xy.containers:\n",
    "#     xy.bar_label(bars)"
   ]
  },
  {
   "cell_type": "markdown",
   "id": "9df8e864-efd9-49de-b41b-d9f8a5997868",
   "metadata": {},
   "source": [
    "#### #Show the co-relation of different parameters with heatmap"
   ]
  },
  {
   "cell_type": "code",
   "execution_count": null,
   "id": "3cd18742-a1fb-4050-a7b5-91041cb8f1ad",
   "metadata": {},
   "outputs": [],
   "source": [
    "# df.head()"
   ]
  },
  {
   "cell_type": "code",
   "execution_count": null,
   "id": "4156c2e7-107c-4494-bd27-da3c76a70b5f",
   "metadata": {
    "scrolled": true
   },
   "outputs": [],
   "source": [
    "# #co-relation among numeric columns\n",
    "# df_num = df.select_dtypes(include=['number'])\n",
    "# df_num.corr()"
   ]
  },
  {
   "cell_type": "code",
   "execution_count": null,
   "id": "c2f9ca26-e48c-47bb-ae21-86f393138ab5",
   "metadata": {},
   "outputs": [],
   "source": [
    "# correlation_matrix = df_num.corr()\n",
    "# sns.heatmap(correlation_matrix, annot=True)  #annot=True: This parameter adds the numerical values to the heatmap cells\n",
    "# plt.title('Correlation Matrix')\n",
    "# plt.xlabel('Numeric Parameters')\n",
    "# plt.ylabel('Numeric Parameters')\n",
    "# plt.show()"
   ]
  },
  {
   "cell_type": "markdown",
   "id": "ee1a145f-343d-42e4-8062-3f58266654a7",
   "metadata": {},
   "source": []
  },
  {
   "cell_type": "code",
   "execution_count": null,
   "id": "1be5942d-7f93-44ed-b039-6041a50769e2",
   "metadata": {},
   "outputs": [],
   "source": []
  },
  {
   "cell_type": "markdown",
   "id": "5267632c-b2a5-43a8-be08-a26adf97af95",
   "metadata": {},
   "source": [
    "**5: We got new data for the month of august. Append that to existing data**"
   ]
  },
  {
   "cell_type": "code",
   "execution_count": null,
   "id": "fb61a140-eb2f-47ab-bd7d-160c0ac03f49",
   "metadata": {},
   "outputs": [],
   "source": [
    "# df_august = pd.read_csv(\"new_data_august.csv\")\n",
    "# df_august.head(3)"
   ]
  },
  {
   "cell_type": "code",
   "execution_count": null,
   "id": "e32f0dde-e6eb-4fcc-a94a-a45c9871d094",
   "metadata": {},
   "outputs": [],
   "source": [
    "# df_august.columns"
   ]
  },
  {
   "cell_type": "code",
   "execution_count": null,
   "id": "f6344b30-d9ef-4395-b032-684b932f43b4",
   "metadata": {},
   "outputs": [],
   "source": [
    "# df.columns"
   ]
  },
  {
   "cell_type": "code",
   "execution_count": null,
   "id": "bcd9c5ca-6f38-4325-926d-1ad3983a6f54",
   "metadata": {},
   "outputs": [],
   "source": [
    "# df_august.shape"
   ]
  },
  {
   "cell_type": "code",
   "execution_count": null,
   "id": "614bc368-2800-4b3c-bff5-bf3eacb1aa31",
   "metadata": {},
   "outputs": [],
   "source": [
    "# df.shape"
   ]
  },
  {
   "cell_type": "code",
   "execution_count": null,
   "id": "866a0b82-615c-4c77-8c89-27f7bb681aed",
   "metadata": {},
   "outputs": [],
   "source": [
    "# latest_df = pd.concat([df, df_august], ignore_index=True, axis=0)\n",
    "# latest_df.head()"
   ]
  },
  {
   "cell_type": "markdown",
   "id": "cb8f35b2-9288-4010-b039-56da5676d849",
   "metadata": {},
   "source": [
    "**6. Print revenue realized per city**"
   ]
  },
  {
   "cell_type": "code",
   "execution_count": null,
   "id": "bed3e84d-4599-4e5c-9f4d-f68b7429c10a",
   "metadata": {},
   "outputs": [],
   "source": [
    "# df_bookings.head(3)"
   ]
  },
  {
   "cell_type": "code",
   "execution_count": null,
   "id": "51fb9c93-244d-4ea4-afc6-28ecf135f7be",
   "metadata": {},
   "outputs": [],
   "source": [
    "# df_hotels.head(3)"
   ]
  },
  {
   "cell_type": "code",
   "execution_count": null,
   "id": "bf6ff1a6-8573-4ce3-8b1c-f099d4357307",
   "metadata": {},
   "outputs": [],
   "source": [
    "# df_all_bookings = pd.merge(df_bookings, df_hotels, on=\"property_id\")\n",
    "# df_all_bookings.head(3)"
   ]
  },
  {
   "cell_type": "code",
   "execution_count": null,
   "id": "77b4fe1c-0afe-4c2d-a371-8c0abed4272d",
   "metadata": {},
   "outputs": [],
   "source": [
    "# df_all_bookings.groupby(\"city\")[\"revenue_realized\"].sum()"
   ]
  },
  {
   "cell_type": "markdown",
   "id": "4c54f1d6-cfcd-44d9-ab71-d0c548e51ef1",
   "metadata": {},
   "source": [
    "**7. Print month by month revenue**"
   ]
  },
  {
   "cell_type": "code",
   "execution_count": null,
   "id": "3b6f0961-5138-4a8e-927d-ea54e7b646f8",
   "metadata": {},
   "outputs": [],
   "source": [
    "# df_date.head(3)"
   ]
  },
  {
   "cell_type": "code",
   "execution_count": null,
   "id": "053b8213-c5e4-4aba-92c5-11e8706e8ad3",
   "metadata": {},
   "outputs": [],
   "source": [
    "df_date[\"mmm yy\"].unique()"
   ]
  },
  {
   "cell_type": "code",
   "execution_count": null,
   "id": "15936e3e-c3c9-4971-85da-8594b9d8b85b",
   "metadata": {},
   "outputs": [],
   "source": [
    "df_all_bookings.tail()"
   ]
  },
  {
   "cell_type": "code",
   "execution_count": null,
   "id": "9386f04f-1ba0-49a5-9afd-0848946bef5f",
   "metadata": {},
   "outputs": [],
   "source": [
    "df_date.info()"
   ]
  },
  {
   "cell_type": "code",
   "execution_count": null,
   "id": "5dd14519-de3f-4612-a791-c9e1ef6b7f19",
   "metadata": {},
   "outputs": [],
   "source": [
    "df_date[\"date\"] = pd.to_datetime(df_date[\"date\"])\n",
    "df_date.head()"
   ]
  },
  {
   "cell_type": "code",
   "execution_count": null,
   "id": "dc5e85dc-4a79-4738-a321-9f54474eac72",
   "metadata": {},
   "outputs": [],
   "source": [
    "df_all_bookings.info()"
   ]
  },
  {
   "cell_type": "code",
   "execution_count": null,
   "id": "9f13c5a4-6d23-422d-9207-dde583a93ea0",
   "metadata": {},
   "outputs": [],
   "source": [
    "df_all_bookings[\"check_in_date\"] = pd.to_datetime(df_all_bookings[\"check_in_date\"])\n",
    "df_all_bookings.head(3)"
   ]
  },
  {
   "cell_type": "code",
   "execution_count": null,
   "id": "5bef6e2b-55dc-4a71-a876-3fb8d8de8de1",
   "metadata": {},
   "outputs": [],
   "source": [
    "df_all_bookings[\"check_in_date\"] = pd.to_datetime(df_all_bookings[\"check_in_date\"], dayfirst=True, errors='coerce')\n",
    "df_all_bookings.head(3)"
   ]
  },
  {
   "cell_type": "code",
   "execution_count": null,
   "id": "fd6bbcbf-cb22-4136-94c9-11f36608bacd",
   "metadata": {},
   "outputs": [],
   "source": [
    "df_all_bookings = pd.merge(df_all_bookings, df_date, left_on=\"check_in_date\", right_on=\"date\")\n",
    "df_all_bookings.head(3)"
   ]
  },
  {
   "cell_type": "code",
   "execution_count": null,
   "id": "61e96156-dcf3-4c76-a33c-36432b97287b",
   "metadata": {},
   "outputs": [],
   "source": [
    "df_all_bookings.groupby(\"mmm yy\")[\"revenue_realized\"].sum()"
   ]
  },
  {
   "cell_type": "markdown",
   "id": "18e33788-5ed3-4ff9-ba22-4244a3e4799b",
   "metadata": {},
   "source": [
    "#### Exercise-1. Print revenue realized per hotel type"
   ]
  },
  {
   "cell_type": "code",
   "execution_count": null,
   "id": "1e3b2a9a-8ffc-4864-9686-0701deb6df51",
   "metadata": {},
   "outputs": [],
   "source": [
    "df_all_bookings.property_name.unique()"
   ]
  },
  {
   "cell_type": "code",
   "execution_count": null,
   "id": "990adfe0-e16e-48fe-b586-14ccff875d20",
   "metadata": {},
   "outputs": [],
   "source": [
    "df_all_bookings.groupby(\"property_name\")[\"revenue_realized\"].sum().sort_values()"
   ]
  },
  {
   "cell_type": "markdown",
   "id": "de0670b7-db74-44df-b31c-21f488df7aac",
   "metadata": {},
   "source": [
    "#### Exercise-2 Print average rating per city"
   ]
  },
  {
   "cell_type": "code",
   "execution_count": null,
   "id": "9a3e64a6-ebc1-49c0-a471-ac674ceec199",
   "metadata": {},
   "outputs": [],
   "source": [
    "df_all_bookings.groupby(\"city\")[\"ratings_given\"].mean().round(2)"
   ]
  },
  {
   "cell_type": "markdown",
   "id": "98806e43-11be-462a-a927-7c964ac705aa",
   "metadata": {},
   "source": [
    "#### Exercise-3 Print a pie chart of revenue realized per booking platform*"
   ]
  },
  {
   "cell_type": "code",
   "execution_count": null,
   "id": "5f3520b3-fe9c-4685-86e3-e7dc2ec3153d",
   "metadata": {},
   "outputs": [],
   "source": [
    "df_all_bookings.groupby(\"booking_platform\")[\"revenue_realized\"].sum().plot(kind=\"pie\")"
   ]
  },
  {
   "cell_type": "code",
   "execution_count": null,
   "id": "b510f3f1-1f6f-41dd-897e-3eb7ddc6734b",
   "metadata": {},
   "outputs": [],
   "source": []
  },
  {
   "cell_type": "code",
   "execution_count": null,
   "id": "772c93d5-996c-4f65-9809-aa221a4c30d6",
   "metadata": {},
   "outputs": [],
   "source": []
  },
  {
   "cell_type": "code",
   "execution_count": null,
   "id": "704561e0-deae-48d8-a483-55bf86075baa",
   "metadata": {},
   "outputs": [],
   "source": []
  },
  {
   "cell_type": "code",
   "execution_count": null,
   "id": "a497b9ae-76be-4563-93e0-9108d535e9fe",
   "metadata": {},
   "outputs": [],
   "source": []
  },
  {
   "cell_type": "code",
   "execution_count": null,
   "id": "3bdc488e-5acd-40c4-a3cb-f9839e897d91",
   "metadata": {},
   "outputs": [],
   "source": []
  },
  {
   "cell_type": "code",
   "execution_count": null,
   "id": "759b1761-ac77-441b-81c7-ae6397409400",
   "metadata": {},
   "outputs": [],
   "source": []
  },
  {
   "cell_type": "code",
   "execution_count": null,
   "id": "c01673a8-8364-44f3-bb2b-266f1d91680d",
   "metadata": {},
   "outputs": [],
   "source": []
  },
  {
   "cell_type": "code",
   "execution_count": null,
   "id": "dd4e529c-6aa5-4218-8829-7c7a5214cfe9",
   "metadata": {},
   "outputs": [],
   "source": []
  },
  {
   "cell_type": "code",
   "execution_count": null,
   "id": "bdb7bd6a-0be9-4dc0-a632-f3e69a4032f9",
   "metadata": {},
   "outputs": [],
   "source": []
  }
 ],
 "metadata": {
  "kernelspec": {
   "display_name": "Python 3 (ipykernel)",
   "language": "python",
   "name": "python3"
  },
  "language_info": {
   "codemirror_mode": {
    "name": "ipython",
    "version": 3
   },
   "file_extension": ".py",
   "mimetype": "text/x-python",
   "name": "python",
   "nbconvert_exporter": "python",
   "pygments_lexer": "ipython3",
   "version": "3.13.3"
  }
 },
 "nbformat": 4,
 "nbformat_minor": 5
}
